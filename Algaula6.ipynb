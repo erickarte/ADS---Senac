{
 "cells": [
  {
   "cell_type": "code",
   "execution_count": 8,
   "metadata": {},
   "outputs": [
    {
     "name": "stdout",
     "output_type": "stream",
     "text": [
      " O valor da taxa a ser paga para o veículo do ano de 1990 é: R$ 300.0 .\n"
     ]
    }
   ],
   "source": [
    "# perguntar qual o ano do carro\n",
    "ano = int(input('Qual o ano do carro? Digite o ano com 4 dígitos'))\n",
    "# perguntar qual o valor do carro\n",
    "valor = float(input('Qual o valor do veículo?'))\n",
    "# calcular o imposto\n",
    "if (ano < 1990):\n",
    "   taxa = valor * 0.01\n",
    "else:\n",
    "   taxa = valor * 0.015\n",
    "# imprimir o valor do imposto a ser pago\n",
    "print (' O valor da taxa a ser paga para o veículo do ano de', ano, 'é: R$', taxa, '.')"
   ]
  },
  {
   "cell_type": "code",
   "execution_count": 5,
   "metadata": {},
   "outputs": [
    {
     "name": "stdout",
     "output_type": "stream",
     "text": [
      "O salário antigo é: R$ 10000.0 \n",
      "O novo salário é: R$ 11000.0 \n",
      "A diferença entre os salário é: R$ 1000.0\n"
     ]
    }
   ],
   "source": [
    "# pergunta o codigo ou nome do cargo\n",
    "cargo = input('Qual o cargo ou código do cargo ocupado?')\n",
    "# pergunta o salario\n",
    "sal = float(input('Qual o salário do cargo ocupado?'))\n",
    "#calcula o valor do novo salario\n",
    "if (cargo == '101' or cargo == 'gerente' or cargo == 'Gerente' or cargo == 'GERENTE'):\n",
    "    saln = sal * 1.10\n",
    "elif (cargo == '102' or cargo == 'engenheiro' or cargo == 'Engenheiro' or cargo == 'ENGENHEIRO'):\n",
    "    saln = sal * 1.20\n",
    "elif (cargo == '103' or cargo == 'tecnico' or cargo == 'Tecnico' or cargo == 'TECNICO' or cargo == 'técnico' or cargo == 'Técnico' or cargo == 'TÉCNICO'):\n",
    "    saln = sal * 1.30\n",
    "else:\n",
    "    saln = sal * 1.40\n",
    "# imprime na tela o salário antigo, o novo e a diferença entre eles\n",
    "print('O salário antigo é: R$', sal, '\\n' 'O novo salário é: R$', saln,'\\n' 'A diferença entre os salário é: R$', saln - sal)"
   ]
  }
 ],
 "metadata": {
  "kernelspec": {
   "display_name": "Python 3",
   "language": "python",
   "name": "python3"
  },
  "language_info": {
   "codemirror_mode": {
    "name": "ipython",
    "version": 3
   },
   "file_extension": ".py",
   "mimetype": "text/x-python",
   "name": "python",
   "nbconvert_exporter": "python",
   "pygments_lexer": "ipython3",
   "version": "3.10.11"
  }
 },
 "nbformat": 4,
 "nbformat_minor": 2
}
