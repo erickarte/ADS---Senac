{
 "cells": [
  {
   "cell_type": "code",
   "execution_count": 2,
   "metadata": {},
   "outputs": [
    {
     "data": {
      "text/plain": [
       "'\\ncomentando codigo\\ncomentando codigo\\ncomentando codigo\\n'"
      ]
     },
     "execution_count": 2,
     "metadata": {},
     "output_type": "execute_result"
    }
   ],
   "source": [
    "\"\"\"\n",
    "comentando codigo\n",
    "comentando codigo\n",
    "comentando codigo\n",
    "\"\"\""
   ]
  },
  {
   "cell_type": "code",
   "execution_count": 20,
   "metadata": {},
   "outputs": [
    {
     "name": "stdout",
     "output_type": "stream",
     "text": [
      "60\n"
     ]
    }
   ],
   "source": [
    "\"\"\"Declaração de Soma de valores\"\"\"\n",
    "\n",
    "idade1 = 40\n",
    "idade2 = 20\n",
    "\n",
    "soma = idade1 + idade2\n",
    "\n",
    "print(soma)"
   ]
  },
  {
   "cell_type": "code",
   "execution_count": 21,
   "metadata": {},
   "outputs": [
    {
     "name": "stdout",
     "output_type": "stream",
     "text": [
      "20\n"
     ]
    }
   ],
   "source": [
    "\"\"\"Declaração de subtração de valores\"\"\"\n",
    "\n",
    "subtracao = idade1 - idade2\n",
    "\n",
    "print(subtracao)"
   ]
  },
  {
   "cell_type": "code",
   "execution_count": 14,
   "metadata": {},
   "outputs": [
    {
     "data": {
      "text/plain": [
       "800"
      ]
     },
     "execution_count": 14,
     "metadata": {},
     "output_type": "execute_result"
    }
   ],
   "source": [
    "\"\"\"Declaração de multiplicação de valores\"\"\"\n",
    "\n",
    "idade1 * idade2"
   ]
  },
  {
   "cell_type": "code",
   "execution_count": 15,
   "metadata": {},
   "outputs": [
    {
     "data": {
      "text/plain": [
       "2.0"
      ]
     },
     "execution_count": 15,
     "metadata": {},
     "output_type": "execute_result"
    }
   ],
   "source": [
    "\"\"\"declaração de divisão de valores\"\"\"\n",
    "\n",
    "idade1/idade2\n"
   ]
  },
  {
   "cell_type": "code",
   "execution_count": 16,
   "metadata": {},
   "outputs": [
    {
     "name": "stdout",
     "output_type": "stream",
     "text": [
      "60\n"
     ]
    }
   ],
   "source": [
    "\"\"\"declaração de somas das idades na tela\"\"\"\n",
    "\n",
    "somaIdades = idade1 + idade2\n",
    "\n",
    "print(somaIdades)"
   ]
  },
  {
   "cell_type": "code",
   "execution_count": 17,
   "metadata": {},
   "outputs": [
    {
     "name": "stdout",
     "output_type": "stream",
     "text": [
      "120 95.0 35.0\n"
     ]
    }
   ],
   "source": [
    "calculo1 = 2 * (idade1 + idade2)\n",
    "\n",
    "calculo2 = 2 * idade1 + 3 * idade2 / 4\n",
    "\n",
    "calculo3 = (2 * idade1 + 3 * idade2) / 4\n",
    "\n",
    "print(calculo1, calculo2, calculo3)"
   ]
  },
  {
   "cell_type": "code",
   "execution_count": 18,
   "metadata": {},
   "outputs": [
    {
     "name": "stdout",
     "output_type": "stream",
     "text": [
      "1600 225\n"
     ]
    }
   ],
   "source": [
    "calculo4 = idade1 ** 2\n",
    "\n",
    "calculo5 = 15 ** 2\n",
    "\n",
    "print(calculo4, calculo5)"
   ]
  },
  {
   "cell_type": "code",
   "execution_count": 19,
   "metadata": {},
   "outputs": [
    {
     "name": "stdout",
     "output_type": "stream",
     "text": [
      "2\n"
     ]
    }
   ],
   "source": [
    "\"\"\"parte inteira\"\"\"\n",
    "\n",
    "inteira = idade1 // idade2\n",
    "\n",
    "print(inteira)"
   ]
  },
  {
   "cell_type": "code",
   "execution_count": 26,
   "metadata": {},
   "outputs": [],
   "source": [
    "nome= 'Erick'\n",
    "sobrenome = 'Lopes'\n"
   ]
  },
  {
   "cell_type": "code",
   "execution_count": 29,
   "metadata": {},
   "outputs": [
    {
     "name": "stdout",
     "output_type": "stream",
     "text": [
      "ErickLopes\n"
     ]
    }
   ],
   "source": [
    "print(nome + sobrenome)"
   ]
  },
  {
   "cell_type": "code",
   "execution_count": 33,
   "metadata": {},
   "outputs": [
    {
     "name": "stdout",
     "output_type": "stream",
     "text": [
      "Erick Lopes\n"
     ]
    }
   ],
   "source": [
    "print(nome + ' ' + sobrenome)"
   ]
  },
  {
   "cell_type": "code",
   "execution_count": 34,
   "metadata": {},
   "outputs": [
    {
     "name": "stdout",
     "output_type": "stream",
     "text": [
      "Olá, Erick você tem 55 anos\n"
     ]
    }
   ],
   "source": [
    "print('Olá,',nome,'você tem', idade1 + 15, 'anos')"
   ]
  },
  {
   "cell_type": "code",
   "execution_count": 48,
   "metadata": {},
   "outputs": [
    {
     "name": "stdout",
     "output_type": "stream",
     "text": [
      "Olá, Erick Lopes, \n",
      " você tem 55 anos\n"
     ]
    }
   ],
   "source": [
    "print('Olá,',nome, sobrenome+',','\\n', 'você tem', idade1 + 15, 'anos')"
   ]
  },
  {
   "cell_type": "code",
   "execution_count": 50,
   "metadata": {},
   "outputs": [
    {
     "data": {
      "text/plain": [
       "'erick lopes'"
      ]
     },
     "execution_count": 50,
     "metadata": {},
     "output_type": "execute_result"
    }
   ],
   "source": [
    "\"\"\"pedir informação ao usuario\"\"\"\n",
    "\n",
    "input('Digite o seu nome:')"
   ]
  },
  {
   "cell_type": "code",
   "execution_count": 53,
   "metadata": {},
   "outputs": [
    {
     "name": "stdout",
     "output_type": "stream",
     "text": [
      "erick da silva\n"
     ]
    }
   ],
   "source": [
    "\"\"\"pedir informação ao usuario\"\"\"\n",
    "\n",
    "nome = input('Digite seu nome:')\n",
    "print (nome)"
   ]
  },
  {
   "cell_type": "code",
   "execution_count": 56,
   "metadata": {},
   "outputs": [
    {
     "name": "stdout",
     "output_type": "stream",
     "text": [
      "45\n"
     ]
    }
   ],
   "source": [
    "\"\"\"input sem tipagem\"\"\"\n",
    "\n",
    "idade = input('Digite sua idade:')\n",
    "\n",
    "print(idade)"
   ]
  },
  {
   "cell_type": "code",
   "execution_count": 57,
   "metadata": {},
   "outputs": [
    {
     "data": {
      "text/plain": [
       "str"
      ]
     },
     "execution_count": 57,
     "metadata": {},
     "output_type": "execute_result"
    }
   ],
   "source": [
    "type(idade)"
   ]
  },
  {
   "cell_type": "code",
   "execution_count": 59,
   "metadata": {},
   "outputs": [
    {
     "name": "stdout",
     "output_type": "stream",
     "text": [
      "49\n"
     ]
    }
   ],
   "source": [
    "\"\"\"input com tipagem inteiro\"\"\"\n",
    "\n",
    "idade = int(input('Digitesua idade'))\n",
    "\n",
    "print(idade)"
   ]
  },
  {
   "cell_type": "code",
   "execution_count": 60,
   "metadata": {},
   "outputs": [
    {
     "data": {
      "text/plain": [
       "int"
      ]
     },
     "execution_count": 60,
     "metadata": {},
     "output_type": "execute_result"
    }
   ],
   "source": [
    "type(idade)"
   ]
  },
  {
   "cell_type": "code",
   "execution_count": 61,
   "metadata": {},
   "outputs": [
    {
     "name": "stdout",
     "output_type": "stream",
     "text": [
      "11\n"
     ]
    }
   ],
   "source": [
    "\"\"\"decremento\"\"\"\n",
    "\n",
    "num1 = 12\n",
    "num1 -= 1\n",
    "print(num1)"
   ]
  },
  {
   "cell_type": "code",
   "execution_count": 62,
   "metadata": {},
   "outputs": [
    {
     "name": "stdout",
     "output_type": "stream",
     "text": [
      "13\n"
     ]
    }
   ],
   "source": [
    "\"\"\"incremento\"\"\"\n",
    "\n",
    "num2 = 12\n",
    "num2 +=1\n",
    "print(num2)"
   ]
  }
 ],
 "metadata": {
  "kernelspec": {
   "display_name": "Python 3",
   "language": "python",
   "name": "python3"
  },
  "language_info": {
   "codemirror_mode": {
    "name": "ipython",
    "version": 3
   },
   "file_extension": ".py",
   "mimetype": "text/x-python",
   "name": "python",
   "nbconvert_exporter": "python",
   "pygments_lexer": "ipython3",
   "version": "3.9.7"
  }
 },
 "nbformat": 4,
 "nbformat_minor": 2
}
