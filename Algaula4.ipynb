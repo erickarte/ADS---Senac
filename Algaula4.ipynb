{
 "cells": [
  {
   "cell_type": "code",
   "execution_count": 1,
   "metadata": {},
   "outputs": [
    {
     "name": "stdout",
     "output_type": "stream",
     "text": [
      "10\n"
     ]
    }
   ],
   "source": [
    "valor_int = int(input('Digite um número'))\n",
    "print(valor_int)"
   ]
  },
  {
   "cell_type": "code",
   "execution_count": 3,
   "metadata": {},
   "outputs": [
    {
     "name": "stdout",
     "output_type": "stream",
     "text": [
      "20\n"
     ]
    }
   ],
   "source": [
    "num1 = int(input('Digite um número'))\n",
    "num2 = int(input('Digite outro número'))\n",
    "print(num1 + num2)"
   ]
  },
  {
   "cell_type": "code",
   "execution_count": 4,
   "metadata": {},
   "outputs": [
    {
     "name": "stdout",
     "output_type": "stream",
     "text": [
      "a média é: 20.0\n"
     ]
    }
   ],
   "source": [
    "num1 = float(input('Digite um número:'))\n",
    "num2 = float(input('Digite outro número:'))\n",
    "num3 = float(input('Digite o último número'))\n",
    "med = (num1 + num2 + num3) /3\n",
    "\n",
    "print(\"a média é:\", med)"
   ]
  },
  {
   "cell_type": "code",
   "execution_count": 7,
   "metadata": {},
   "outputs": [
    {
     "name": "stdout",
     "output_type": "stream",
     "text": [
      "Seu salario por mês é: 2400.0\n"
     ]
    }
   ],
   "source": [
    "sal = float(input('Quanto você ganha por hora?'))\n",
    "hora = int(input('Quantas hora você trabalha por mês?'))\n",
    "salmes = (sal*hora)\n",
    "print('Seu salario por mês é:', salmes)"
   ]
  },
  {
   "cell_type": "code",
   "execution_count": 8,
   "metadata": {},
   "outputs": [
    {
     "name": "stdout",
     "output_type": "stream",
     "text": [
      "Você pescou 40.0 . não há excesso de peso.\n"
     ]
    }
   ],
   "source": [
    "# Perguntar quantos quilos pescados\n",
    "peso_peixe = float(input('Quantos quilos de peixe foi pescado?'))\n",
    "# calcular excesso de peso\n",
    "if peso_peixe > 50:\n",
    "    exc = peso_peixe - 50\n",
    "# calcular multa\n",
    "    multa = exc * 4\n",
    "# print do peso de excesso e da multa devida\n",
    "    print ('Você pescou', peso_peixe,'o excesso de peso é:', exc, 'A multa devida é:', multa, '.')\n",
    "# informar se não houver excesso\n",
    "else :\n",
    "    print('Você pescou', peso_peixe,'. não há excesso de peso.')"
   ]
  },
  {
   "cell_type": "code",
   "execution_count": null,
   "metadata": {},
   "outputs": [],
   "source": []
  }
 ],
 "metadata": {
  "kernelspec": {
   "display_name": "Python 3",
   "language": "python",
   "name": "python3"
  },
  "language_info": {
   "codemirror_mode": {
    "name": "ipython",
    "version": 3
   },
   "file_extension": ".py",
   "mimetype": "text/x-python",
   "name": "python",
   "nbconvert_exporter": "python",
   "pygments_lexer": "ipython3",
   "version": "3.11.8"
  }
 },
 "nbformat": 4,
 "nbformat_minor": 2
}
